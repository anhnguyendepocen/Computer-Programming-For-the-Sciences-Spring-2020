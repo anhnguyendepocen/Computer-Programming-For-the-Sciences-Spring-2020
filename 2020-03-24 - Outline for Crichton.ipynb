{
 "cells": [
  {
   "cell_type": "markdown",
   "metadata": {},
   "source": [
    "# Outline for reproducing Crichton's data analysis"
   ]
  },
  {
   "cell_type": "markdown",
   "metadata": {},
   "source": [
    "### primary claims of Crichton\n",
    "\n",
    "1. urban area heat up more than rural"
   ]
  },
  {
   "cell_type": "markdown",
   "metadata": {},
   "source": [
    "1. Reproduce his plots - did he make up or modify his data?\n",
    "    1. download data for a site\n",
    "    2. do a trendline for the site -- getting the slope.  do you have the right tools to answer?\n",
    "    3. compare his plot to yours -- trends, time ranges, gaps, temperature range, oscillations, etc...\n",
    "2. Did he cherry pick?\n",
    "    1. look at other areas of the country, other cities/towns, urban/rural - how many?  every state?"
   ]
  },
  {
   "cell_type": "code",
   "execution_count": null,
   "metadata": {},
   "outputs": [],
   "source": []
  }
 ],
 "metadata": {
  "kernelspec": {
   "display_name": "Python 3",
   "language": "python",
   "name": "python3"
  },
  "language_info": {
   "codemirror_mode": {
    "name": "ipython",
    "version": 3
   },
   "file_extension": ".py",
   "mimetype": "text/x-python",
   "name": "python",
   "nbconvert_exporter": "python",
   "pygments_lexer": "ipython3",
   "version": "3.7.6"
  }
 },
 "nbformat": 4,
 "nbformat_minor": 4
}
