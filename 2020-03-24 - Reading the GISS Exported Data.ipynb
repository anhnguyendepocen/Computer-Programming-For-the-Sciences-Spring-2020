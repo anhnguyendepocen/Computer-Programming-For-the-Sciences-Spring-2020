{
 "cells": [
  {
   "cell_type": "code",
   "execution_count": 1,
   "metadata": {},
   "outputs": [
    {
     "name": "stdout",
     "output_type": "stream",
     "text": [
      "Populating the interactive namespace from numpy and matplotlib\n"
     ]
    }
   ],
   "source": [
    "%pylab inline"
   ]
  },
  {
   "cell_type": "code",
   "execution_count": 2,
   "metadata": {},
   "outputs": [
    {
     "name": "stdout",
     "output_type": "stream",
     "text": [
      "Version 0.0.3\n"
     ]
    }
   ],
   "source": [
    "from sci378 import *"
   ]
  },
  {
   "cell_type": "code",
   "execution_count": 3,
   "metadata": {},
   "outputs": [],
   "source": [
    "data=pd.read_csv(\"data/station_temperature_data.csv.gz\",index_col=False)"
   ]
  },
  {
   "cell_type": "code",
   "execution_count": 4,
   "metadata": {},
   "outputs": [],
   "source": [
    "info=pd.read_excel(\"data/station_info.xlsx\")"
   ]
  },
  {
   "cell_type": "code",
   "execution_count": 5,
   "metadata": {},
   "outputs": [
    {
     "data": {
      "text/html": [
       "<div>\n",
       "<style scoped>\n",
       "    .dataframe tbody tr th:only-of-type {\n",
       "        vertical-align: middle;\n",
       "    }\n",
       "\n",
       "    .dataframe tbody tr th {\n",
       "        vertical-align: top;\n",
       "    }\n",
       "\n",
       "    .dataframe thead th {\n",
       "        text-align: right;\n",
       "    }\n",
       "</style>\n",
       "<table border=\"1\" class=\"dataframe\">\n",
       "  <thead>\n",
       "    <tr style=\"text-align: right;\">\n",
       "      <th></th>\n",
       "      <th>Unnamed: 0</th>\n",
       "      <th>ID</th>\n",
       "      <th>Station</th>\n",
       "      <th>Latitude</th>\n",
       "      <th>Longitude</th>\n",
       "      <th>Brightness</th>\n",
       "      <th>Elevation</th>\n",
       "    </tr>\n",
       "  </thead>\n",
       "  <tbody>\n",
       "    <tr>\n",
       "      <th>0</th>\n",
       "      <td>0</td>\n",
       "      <td>ACW00011604</td>\n",
       "      <td>SAVE</td>\n",
       "      <td>57.7667</td>\n",
       "      <td>11.8667</td>\n",
       "      <td>45.0</td>\n",
       "      <td>18.0</td>\n",
       "    </tr>\n",
       "    <tr>\n",
       "      <th>1</th>\n",
       "      <td>1</td>\n",
       "      <td>AE000041196</td>\n",
       "      <td>SHARJAH_INTER_AIRP</td>\n",
       "      <td>25.3330</td>\n",
       "      <td>55.5170</td>\n",
       "      <td>39.0</td>\n",
       "      <td>34.0</td>\n",
       "    </tr>\n",
       "    <tr>\n",
       "      <th>2</th>\n",
       "      <td>2</td>\n",
       "      <td>AEM00041184</td>\n",
       "      <td>RAS_AL_KHAIMAH_INTE</td>\n",
       "      <td>25.6170</td>\n",
       "      <td>55.9330</td>\n",
       "      <td>17.0</td>\n",
       "      <td>31.0</td>\n",
       "    </tr>\n",
       "    <tr>\n",
       "      <th>3</th>\n",
       "      <td>3</td>\n",
       "      <td>AEM00041194</td>\n",
       "      <td>DUBAI_INTL</td>\n",
       "      <td>25.2550</td>\n",
       "      <td>55.3640</td>\n",
       "      <td>104.0</td>\n",
       "      <td>10.4</td>\n",
       "    </tr>\n",
       "    <tr>\n",
       "      <th>4</th>\n",
       "      <td>4</td>\n",
       "      <td>AEM00041216</td>\n",
       "      <td>ABU_DHABI_BATEEN_AIR</td>\n",
       "      <td>24.4300</td>\n",
       "      <td>54.4700</td>\n",
       "      <td>114.0</td>\n",
       "      <td>3.0</td>\n",
       "    </tr>\n",
       "  </tbody>\n",
       "</table>\n",
       "</div>"
      ],
      "text/plain": [
       "   Unnamed: 0           ID               Station  Latitude  Longitude  \\\n",
       "0           0  ACW00011604                  SAVE   57.7667    11.8667   \n",
       "1           1  AE000041196    SHARJAH_INTER_AIRP   25.3330    55.5170   \n",
       "2           2  AEM00041184   RAS_AL_KHAIMAH_INTE   25.6170    55.9330   \n",
       "3           3  AEM00041194            DUBAI_INTL   25.2550    55.3640   \n",
       "4           4  AEM00041216  ABU_DHABI_BATEEN_AIR   24.4300    54.4700   \n",
       "\n",
       "   Brightness  Elevation  \n",
       "0        45.0       18.0  \n",
       "1        39.0       34.0  \n",
       "2        17.0       31.0  \n",
       "3       104.0       10.4  \n",
       "4       114.0        3.0  "
      ]
     },
     "execution_count": 5,
     "metadata": {},
     "output_type": "execute_result"
    }
   ],
   "source": [
    "info.head()"
   ]
  },
  {
   "cell_type": "code",
   "execution_count": 6,
   "metadata": {},
   "outputs": [
    {
     "data": {
      "text/html": [
       "<div>\n",
       "<style scoped>\n",
       "    .dataframe tbody tr th:only-of-type {\n",
       "        vertical-align: middle;\n",
       "    }\n",
       "\n",
       "    .dataframe tbody tr th {\n",
       "        vertical-align: top;\n",
       "    }\n",
       "\n",
       "    .dataframe thead th {\n",
       "        text-align: right;\n",
       "    }\n",
       "</style>\n",
       "<table border=\"1\" class=\"dataframe\">\n",
       "  <thead>\n",
       "    <tr style=\"text-align: right;\">\n",
       "      <th></th>\n",
       "      <th>Unnamed: 0</th>\n",
       "      <th>time</th>\n",
       "      <th>SAVE</th>\n",
       "      <th>SHARJAH_INTER_AIRP</th>\n",
       "      <th>RAS_AL_KHAIMAH_INTE</th>\n",
       "      <th>DUBAI_INTL</th>\n",
       "      <th>ABU_DHABI_BATEEN_AIR</th>\n",
       "      <th>ABU_DHABI_INTL</th>\n",
       "      <th>AL_AIN_INTL</th>\n",
       "      <th>NORTH_SALANG</th>\n",
       "      <th>...</th>\n",
       "      <th>BULAWAYO_GOETZ_OBS</th>\n",
       "      <th>BULAWAYO_AIRPORT</th>\n",
       "      <th>WEST_NICHOLSON</th>\n",
       "      <th>MASVINGO</th>\n",
       "      <th>BUFFALO_RANGE</th>\n",
       "      <th>CHIPINGE</th>\n",
       "      <th>BEITBRIDGE</th>\n",
       "      <th>HARARE_BELVEDERE</th>\n",
       "      <th>GRAND_REEF</th>\n",
       "      <th>GWELO</th>\n",
       "    </tr>\n",
       "  </thead>\n",
       "  <tbody>\n",
       "    <tr>\n",
       "      <th>136</th>\n",
       "      <td>136</td>\n",
       "      <td>2016</td>\n",
       "      <td>28.198333</td>\n",
       "      <td>27.810000</td>\n",
       "      <td>NaN</td>\n",
       "      <td>29.545833</td>\n",
       "      <td>NaN</td>\n",
       "      <td>NaN</td>\n",
       "      <td>28.935000</td>\n",
       "      <td>NaN</td>\n",
       "      <td>...</td>\n",
       "      <td>20.777273</td>\n",
       "      <td>NaN</td>\n",
       "      <td>NaN</td>\n",
       "      <td>20.6625</td>\n",
       "      <td>NaN</td>\n",
       "      <td>20.178333</td>\n",
       "      <td>NaN</td>\n",
       "      <td>NaN</td>\n",
       "      <td>NaN</td>\n",
       "      <td>NaN</td>\n",
       "    </tr>\n",
       "    <tr>\n",
       "      <th>137</th>\n",
       "      <td>137</td>\n",
       "      <td>2017</td>\n",
       "      <td>28.298333</td>\n",
       "      <td>28.335000</td>\n",
       "      <td>NaN</td>\n",
       "      <td>30.027500</td>\n",
       "      <td>NaN</td>\n",
       "      <td>31.6730</td>\n",
       "      <td>29.655000</td>\n",
       "      <td>NaN</td>\n",
       "      <td>...</td>\n",
       "      <td>18.564286</td>\n",
       "      <td>NaN</td>\n",
       "      <td>NaN</td>\n",
       "      <td>19.0200</td>\n",
       "      <td>NaN</td>\n",
       "      <td>NaN</td>\n",
       "      <td>NaN</td>\n",
       "      <td>NaN</td>\n",
       "      <td>NaN</td>\n",
       "      <td>NaN</td>\n",
       "    </tr>\n",
       "    <tr>\n",
       "      <th>138</th>\n",
       "      <td>138</td>\n",
       "      <td>2018</td>\n",
       "      <td>28.081667</td>\n",
       "      <td>28.904545</td>\n",
       "      <td>NaN</td>\n",
       "      <td>30.098182</td>\n",
       "      <td>NaN</td>\n",
       "      <td>29.7925</td>\n",
       "      <td>29.965455</td>\n",
       "      <td>NaN</td>\n",
       "      <td>...</td>\n",
       "      <td>NaN</td>\n",
       "      <td>NaN</td>\n",
       "      <td>NaN</td>\n",
       "      <td>NaN</td>\n",
       "      <td>NaN</td>\n",
       "      <td>NaN</td>\n",
       "      <td>NaN</td>\n",
       "      <td>NaN</td>\n",
       "      <td>NaN</td>\n",
       "      <td>NaN</td>\n",
       "    </tr>\n",
       "    <tr>\n",
       "      <th>139</th>\n",
       "      <td>139</td>\n",
       "      <td>2019</td>\n",
       "      <td>28.266667</td>\n",
       "      <td>28.251667</td>\n",
       "      <td>NaN</td>\n",
       "      <td>29.585833</td>\n",
       "      <td>NaN</td>\n",
       "      <td>29.4000</td>\n",
       "      <td>29.061667</td>\n",
       "      <td>NaN</td>\n",
       "      <td>...</td>\n",
       "      <td>NaN</td>\n",
       "      <td>NaN</td>\n",
       "      <td>NaN</td>\n",
       "      <td>NaN</td>\n",
       "      <td>NaN</td>\n",
       "      <td>NaN</td>\n",
       "      <td>NaN</td>\n",
       "      <td>NaN</td>\n",
       "      <td>NaN</td>\n",
       "      <td>NaN</td>\n",
       "    </tr>\n",
       "    <tr>\n",
       "      <th>140</th>\n",
       "      <td>140</td>\n",
       "      <td>2020</td>\n",
       "      <td>29.550000</td>\n",
       "      <td>19.730000</td>\n",
       "      <td>NaN</td>\n",
       "      <td>21.280000</td>\n",
       "      <td>NaN</td>\n",
       "      <td>20.5750</td>\n",
       "      <td>19.460000</td>\n",
       "      <td>NaN</td>\n",
       "      <td>...</td>\n",
       "      <td>NaN</td>\n",
       "      <td>NaN</td>\n",
       "      <td>NaN</td>\n",
       "      <td>NaN</td>\n",
       "      <td>NaN</td>\n",
       "      <td>NaN</td>\n",
       "      <td>NaN</td>\n",
       "      <td>NaN</td>\n",
       "      <td>NaN</td>\n",
       "      <td>NaN</td>\n",
       "    </tr>\n",
       "  </tbody>\n",
       "</table>\n",
       "<p>5 rows × 25864 columns</p>\n",
       "</div>"
      ],
      "text/plain": [
       "     Unnamed: 0  time       SAVE  SHARJAH_INTER_AIRP  RAS_AL_KHAIMAH_INTE  \\\n",
       "136         136  2016  28.198333           27.810000                  NaN   \n",
       "137         137  2017  28.298333           28.335000                  NaN   \n",
       "138         138  2018  28.081667           28.904545                  NaN   \n",
       "139         139  2019  28.266667           28.251667                  NaN   \n",
       "140         140  2020  29.550000           19.730000                  NaN   \n",
       "\n",
       "     DUBAI_INTL  ABU_DHABI_BATEEN_AIR  ABU_DHABI_INTL  AL_AIN_INTL  \\\n",
       "136   29.545833                   NaN             NaN    28.935000   \n",
       "137   30.027500                   NaN         31.6730    29.655000   \n",
       "138   30.098182                   NaN         29.7925    29.965455   \n",
       "139   29.585833                   NaN         29.4000    29.061667   \n",
       "140   21.280000                   NaN         20.5750    19.460000   \n",
       "\n",
       "     NORTH_SALANG  ...  BULAWAYO_GOETZ_OBS  BULAWAYO_AIRPORT  WEST_NICHOLSON  \\\n",
       "136           NaN  ...           20.777273               NaN             NaN   \n",
       "137           NaN  ...           18.564286               NaN             NaN   \n",
       "138           NaN  ...                 NaN               NaN             NaN   \n",
       "139           NaN  ...                 NaN               NaN             NaN   \n",
       "140           NaN  ...                 NaN               NaN             NaN   \n",
       "\n",
       "     MASVINGO  BUFFALO_RANGE   CHIPINGE  BEITBRIDGE  HARARE_BELVEDERE  \\\n",
       "136   20.6625            NaN  20.178333         NaN               NaN   \n",
       "137   19.0200            NaN        NaN         NaN               NaN   \n",
       "138       NaN            NaN        NaN         NaN               NaN   \n",
       "139       NaN            NaN        NaN         NaN               NaN   \n",
       "140       NaN            NaN        NaN         NaN               NaN   \n",
       "\n",
       "     GRAND_REEF  GWELO  \n",
       "136         NaN    NaN  \n",
       "137         NaN    NaN  \n",
       "138         NaN    NaN  \n",
       "139         NaN    NaN  \n",
       "140         NaN    NaN  \n",
       "\n",
       "[5 rows x 25864 columns]"
      ]
     },
     "execution_count": 6,
     "metadata": {},
     "output_type": "execute_result"
    }
   ],
   "source": [
    "data.tail()"
   ]
  },
  {
   "cell_type": "code",
   "execution_count": 7,
   "metadata": {},
   "outputs": [
    {
     "data": {
      "text/plain": [
       "Text(0.5, 1.0, 'BERKELEY')"
      ]
     },
     "execution_count": 7,
     "metadata": {},
     "output_type": "execute_result"
    },
    {
     "data": {
      "image/png": "[encoded data removed]",
      "text/plain": [
       "<Figure size 864x576 with 1 Axes>"
      ]
     },
     "metadata": {
      "needs_background": "light"
     },
     "output_type": "display_data"
    }
   ],
   "source": [
    "station='BERKELEY'\n",
    "x=data['time']\n",
    "y=data[station]\n",
    "plot(x,y,'-o')\n",
    "title(station)"
   ]
  },
  {
   "cell_type": "code",
   "execution_count": 35,
   "metadata": {},
   "outputs": [
    {
     "data": {
      "text/plain": [
       "(0      1880\n",
       " 1      1881\n",
       " 2      1882\n",
       " 3      1883\n",
       " 4      1884\n",
       "        ... \n",
       " 136    2016\n",
       " 137    2017\n",
       " 138    2018\n",
       " 139    2019\n",
       " 140    2020\n",
       " Name: time, Length: 141, dtype: int64,\n",
       " 0            NaN\n",
       " 1            NaN\n",
       " 2            NaN\n",
       " 3            NaN\n",
       " 4            NaN\n",
       "          ...    \n",
       " 136    28.198333\n",
       " 137    28.298333\n",
       " 138    28.081667\n",
       " 139    28.266667\n",
       " 140    29.550000\n",
       " Name: SAVE, Length: 141, dtype: float64)"
      ]
     },
     "execution_count": 35,
     "metadata": {},
     "output_type": "execute_result"
    }
   ],
   "source": [
    "x,y   # lots of nans!"
   ]
  },
  {
   "cell_type": "code",
   "execution_count": 26,
   "metadata": {},
   "outputs": [],
   "source": [
    "def get_xy(data,station):\n",
    "    x,y=array(data[['time',station]].dropna()).T    \n",
    "    return x,y"
   ]
  },
  {
   "cell_type": "code",
   "execution_count": 37,
   "metadata": {},
   "outputs": [],
   "source": [
    "x,y=get_xy(data,station)"
   ]
  },
  {
   "cell_type": "code",
   "execution_count": 38,
   "metadata": {},
   "outputs": [
    {
     "data": {
      "text/html": [
       "<table class=\"simpletable\">\n",
       "<caption>OLS Regression Results</caption>\n",
       "<tr>\n",
       "  <th>Dep. Variable:</th>            <td>y</td>        <th>  R-squared:         </th> <td>   0.394</td>\n",
       "</tr>\n",
       "<tr>\n",
       "  <th>Model:</th>                   <td>OLS</td>       <th>  Adj. R-squared:    </th> <td>   0.381</td>\n",
       "</tr>\n",
       "<tr>\n",
       "  <th>Method:</th>             <td>Least Squares</td>  <th>  F-statistic:       </th> <td>   29.29</td>\n",
       "</tr>\n",
       "<tr>\n",
       "  <th>Date:</th>             <td>Tue, 24 Mar 2020</td> <th>  Prob (F-statistic):</th> <td>2.31e-06</td>\n",
       "</tr>\n",
       "<tr>\n",
       "  <th>Time:</th>                 <td>11:45:46</td>     <th>  Log-Likelihood:    </th> <td> -27.648</td>\n",
       "</tr>\n",
       "<tr>\n",
       "  <th>No. Observations:</th>      <td>    47</td>      <th>  AIC:               </th> <td>   59.30</td>\n",
       "</tr>\n",
       "<tr>\n",
       "  <th>Df Residuals:</th>          <td>    45</td>      <th>  BIC:               </th> <td>   63.00</td>\n",
       "</tr>\n",
       "<tr>\n",
       "  <th>Df Model:</th>              <td>     1</td>      <th>                     </th>     <td> </td>   \n",
       "</tr>\n",
       "<tr>\n",
       "  <th>Covariance Type:</th>      <td>nonrobust</td>    <th>                     </th>     <td> </td>   \n",
       "</tr>\n",
       "</table>\n",
       "<table class=\"simpletable\">\n",
       "<tr>\n",
       "      <td></td>         <th>coef</th>     <th>std err</th>      <th>t</th>      <th>P>|t|</th>  <th>[0.025</th>    <th>0.975]</th>  \n",
       "</tr>\n",
       "<tr>\n",
       "  <th>Intercept</th> <td>  -22.2808</td> <td>    9.203</td> <td>   -2.421</td> <td> 0.020</td> <td>  -40.816</td> <td>   -3.745</td>\n",
       "</tr>\n",
       "<tr>\n",
       "  <th>x</th>         <td>    0.0250</td> <td>    0.005</td> <td>    5.412</td> <td> 0.000</td> <td>    0.016</td> <td>    0.034</td>\n",
       "</tr>\n",
       "</table>\n",
       "<table class=\"simpletable\">\n",
       "<tr>\n",
       "  <th>Omnibus:</th>       <td>11.762</td> <th>  Durbin-Watson:     </th> <td>   1.808</td>\n",
       "</tr>\n",
       "<tr>\n",
       "  <th>Prob(Omnibus):</th> <td> 0.003</td> <th>  Jarque-Bera (JB):  </th> <td>  12.954</td>\n",
       "</tr>\n",
       "<tr>\n",
       "  <th>Skew:</th>          <td> 0.925</td> <th>  Prob(JB):          </th> <td> 0.00154</td>\n",
       "</tr>\n",
       "<tr>\n",
       "  <th>Kurtosis:</th>      <td> 4.787</td> <th>  Cond. No.          </th> <td>2.83e+05</td>\n",
       "</tr>\n",
       "</table><br/><br/>Warnings:<br/>[1] Standard Errors assume that the covariance matrix of the errors is correctly specified.<br/>[2] The condition number is large, 2.83e+05. This might indicate that there are<br/>strong multicollinearity or other numerical problems."
      ],
      "text/plain": [
       "<class 'statsmodels.iolib.summary.Summary'>\n",
       "\"\"\"\n",
       "                            OLS Regression Results                            \n",
       "==============================================================================\n",
       "Dep. Variable:                      y   R-squared:                       0.394\n",
       "Model:                            OLS   Adj. R-squared:                  0.381\n",
       "Method:                 Least Squares   F-statistic:                     29.29\n",
       "Date:                Tue, 24 Mar 2020   Prob (F-statistic):           2.31e-06\n",
       "Time:                        11:45:46   Log-Likelihood:                -27.648\n",
       "No. Observations:                  47   AIC:                             59.30\n",
       "Df Residuals:                      45   BIC:                             63.00\n",
       "Df Model:                           1                                         \n",
       "Covariance Type:            nonrobust                                         \n",
       "==============================================================================\n",
       "                 coef    std err          t      P>|t|      [0.025      0.975]\n",
       "------------------------------------------------------------------------------\n",
       "Intercept    -22.2808      9.203     -2.421      0.020     -40.816      -3.745\n",
       "x              0.0250      0.005      5.412      0.000       0.016       0.034\n",
       "==============================================================================\n",
       "Omnibus:                       11.762   Durbin-Watson:                   1.808\n",
       "Prob(Omnibus):                  0.003   Jarque-Bera (JB):               12.954\n",
       "Skew:                           0.925   Prob(JB):                      0.00154\n",
       "Kurtosis:                       4.787   Cond. No.                     2.83e+05\n",
       "==============================================================================\n",
       "\n",
       "Warnings:\n",
       "[1] Standard Errors assume that the covariance matrix of the errors is correctly specified.\n",
       "[2] The condition number is large, 2.83e+05. This might indicate that there are\n",
       "strong multicollinearity or other numerical problems.\n",
       "\"\"\""
      ]
     },
     "execution_count": 38,
     "metadata": {},
     "output_type": "execute_result"
    }
   ],
   "source": [
    "model=ols('y ~ x', data={'y':y,'x':x})\n",
    "results=model.fit()\n",
    "results.summary()\n"
   ]
  },
  {
   "cell_type": "code",
   "execution_count": 46,
   "metadata": {},
   "outputs": [
    {
     "data": {
      "text/plain": [
       "[<matplotlib.lines.Line2D at 0x7f88e0903750>]"
      ]
     },
     "execution_count": 46,
     "metadata": {},
     "output_type": "execute_result"
    },
    {
     "data": {
      "image/png": "[encoded data removed]",
      "text/plain": [
       "<Figure size 864x576 with 1 Axes>"
      ]
     },
     "metadata": {
      "needs_background": "light"
     },
     "output_type": "display_data"
    }
   ],
   "source": [
    "xx=linspace(min(x)-10,max(x)+10,20)\n",
    "yy=results.predict({'x':xx})\n",
    "\n",
    "m=results.params['x']\n",
    "mσ=results.bse['x']\n",
    "\n",
    "b=results.params['Intercept']\n",
    "\n",
    "plot(x,y,'-o')\n",
    "title(station+\" : y=%.3g (+/- %.4g) x + %.3g\" % (m,mσ,b))\n",
    "plot(xx,yy,'b-')"
   ]
  },
  {
   "cell_type": "code",
   "execution_count": 45,
   "metadata": {},
   "outputs": [
    {
     "data": {
      "text/plain": [
       "Intercept    9.202848\n",
       "x            0.004610\n",
       "dtype: float64"
      ]
     },
     "execution_count": 45,
     "metadata": {},
     "output_type": "execute_result"
    }
   ],
   "source": [
    "results.bse"
   ]
  },
  {
   "cell_type": "markdown",
   "metadata": {},
   "source": [
    "## go through all the stations\n",
    "\n",
    "**is there a relationship between the temperature trend and brightness?**\n",
    "\n",
    "(ideally) 20,000 stations\n",
    "\n",
    "1. x variable: brightness - 20,000 values\n",
    "2. y variable: slope - 20,000 values\n",
    "\n",
    "### Recipe\n",
    "\n",
    "1. loop through stations, for each:\n",
    "    1. get the brightness\n",
    "    2. get the trends (slope)\n",
    "    3. get the slope uncertainties (m-σ)\n",
    "    3. add them to lists/Storage\n",
    "\n",
    "things to consider\n",
    "\n",
    "1. weighted by the m-σ\n",
    "2. errorbars"
   ]
  },
  {
   "cell_type": "code",
   "execution_count": 9,
   "metadata": {},
   "outputs": [
    {
     "data": {
      "text/plain": [
       "Index(['SAVE', 'SHARJAH_INTER_AIRP', 'RAS_AL_KHAIMAH_INTE', 'DUBAI_INTL',\n",
       "       'ABU_DHABI_BATEEN_AIR', 'ABU_DHABI_INTL', 'AL_AIN_INTL', 'NORTH_SALANG',\n",
       "       'MAZAR_I_SHARIF', 'HERAT', 'KABUL_INTL', 'KANDAHAR_AIRPORT',\n",
       "       'CHAKHCHARAN', 'ALGER_DAR_EL_BEIDA', 'EL_GOLEA', 'IN_AMENAS',\n",
       "       'TAMANRASSET', 'ORAN_HOPITAL_MILITAIRE', 'ANNABA_CAP_DE_GARDE',\n",
       "       'ALGIERS_VILLE_UNIVERSITE'],\n",
       "      dtype='object')"
      ]
     },
     "execution_count": 9,
     "metadata": {},
     "output_type": "execute_result"
    }
   ],
   "source": [
    "station_names=data.columns[2:]\n",
    "station_names[:20]"
   ]
  },
  {
   "cell_type": "code",
   "execution_count": 11,
   "metadata": {},
   "outputs": [
    {
     "data": {
      "text/html": [
       "<div>\n",
       "<style scoped>\n",
       "    .dataframe tbody tr th:only-of-type {\n",
       "        vertical-align: middle;\n",
       "    }\n",
       "\n",
       "    .dataframe tbody tr th {\n",
       "        vertical-align: top;\n",
       "    }\n",
       "\n",
       "    .dataframe thead th {\n",
       "        text-align: right;\n",
       "    }\n",
       "</style>\n",
       "<table border=\"1\" class=\"dataframe\">\n",
       "  <thead>\n",
       "    <tr style=\"text-align: right;\">\n",
       "      <th></th>\n",
       "      <th>Unnamed: 0</th>\n",
       "      <th>ID</th>\n",
       "      <th>Station</th>\n",
       "      <th>Latitude</th>\n",
       "      <th>Longitude</th>\n",
       "      <th>Brightness</th>\n",
       "      <th>Elevation</th>\n",
       "    </tr>\n",
       "  </thead>\n",
       "  <tbody>\n",
       "    <tr>\n",
       "      <th>1</th>\n",
       "      <td>1</td>\n",
       "      <td>AE000041196</td>\n",
       "      <td>SHARJAH_INTER_AIRP</td>\n",
       "      <td>25.333</td>\n",
       "      <td>55.517</td>\n",
       "      <td>39.0</td>\n",
       "      <td>34.0</td>\n",
       "    </tr>\n",
       "  </tbody>\n",
       "</table>\n",
       "</div>"
      ],
      "text/plain": [
       "   Unnamed: 0           ID             Station  Latitude  Longitude  \\\n",
       "1           1  AE000041196  SHARJAH_INTER_AIRP    25.333     55.517   \n",
       "\n",
       "   Brightness  Elevation  \n",
       "1        39.0       34.0  "
      ]
     },
     "execution_count": 11,
     "metadata": {},
     "output_type": "execute_result"
    }
   ],
   "source": [
    "station='SHARJAH_INTER_AIRP'\n",
    "info[info['Station']==station]"
   ]
  },
  {
   "cell_type": "code",
   "execution_count": 14,
   "metadata": {},
   "outputs": [
    {
     "data": {
      "text/plain": [
       "39.0"
      ]
     },
     "execution_count": 14,
     "metadata": {},
     "output_type": "execute_result"
    }
   ],
   "source": [
    "float(info[info['Station']==station]['Brightness'])"
   ]
  },
  {
   "cell_type": "code",
   "execution_count": 33,
   "metadata": {},
   "outputs": [],
   "source": [
    "station='SAVE'"
   ]
  },
  {
   "cell_type": "code",
   "execution_count": 38,
   "metadata": {},
   "outputs": [
    {
     "data": {
      "text/plain": [
       "45.0"
      ]
     },
     "execution_count": 38,
     "metadata": {},
     "output_type": "execute_result"
    }
   ],
   "source": [
    "array(info[info['Station']==station]['Brightness'])[0]"
   ]
  },
  {
   "cell_type": "code",
   "execution_count": null,
   "metadata": {},
   "outputs": [],
   "source": []
  },
  {
   "cell_type": "code",
   "execution_count": 47,
   "metadata": {},
   "outputs": [
    {
     "name": "stdout",
     "output_type": "stream",
     "text": [
      "SAVE\n",
      "SHARJAH_INTER_AIRP\n",
      "RAS_AL_KHAIMAH_INTE\n",
      "DUBAI_INTL\n",
      "ABU_DHABI_BATEEN_AIR\n",
      "ABU_DHABI_INTL\n",
      "AL_AIN_INTL\n",
      "MAZAR_I_SHARIF\n",
      "HERAT\n",
      "KABUL_INTL\n",
      "KANDAHAR_AIRPORT\n",
      "ALGER_DAR_EL_BEIDA\n",
      "EL_GOLEA\n",
      "IN_AMENAS\n",
      "TAMANRASSET\n",
      "ANNABA_CAP_DE_GARDE\n",
      "ALGIERS_VILLE_UNIVERSITE\n",
      "ALGIERS_CAP_CAXINE\n",
      "FORT_NATIONAL\n",
      "BEJAIA_BOUGIE_PORT\n",
      "CONSTANTINE\n",
      "ORLEANSVILLE_CHLEF\n",
      "SETIF\n",
      "TEBESSA\n",
      "BISKRA\n",
      "LAGHOUAT\n",
      "GERYVILLE_EL_BAYADH\n",
      "JIJEL\n",
      "JIJEL_PORT\n",
      "ANNABA\n",
      "EL_KALA\n",
      "SOUMMAM\n",
      "GUELMA\n",
      "TENES\n",
      "AIN_BESSAM\n",
      "MOHAMED_BOUDIAF_INTL\n",
      "OUM_EL_BOUAGHI\n",
      "SOUK_AHRAS\n",
      "ECH_CHELIFF\n",
      "MILIANA\n",
      "MEDEA\n",
      "BORDJ_BOU_ARRERIDJ\n",
      "SETIF_AIN_ARNAT\n",
      "ARZEW\n",
      "MOSTAGANEM\n",
      "ORAN_PORT\n",
      "M'SILA\n",
      "CHEIKH_LARBI_TEBESSI\n",
      "KHENCHELLA\n",
      "ES_SENIA\n",
      "MASCARA_MATEMORE\n",
      "GHRISS\n",
      "BOU_CHEKIF\n",
      "KSAR_CHELLALA\n",
      "BOU_SAADA\n",
      "BENI_SAF\n",
      "MAGHNIA\n",
      "ZENATA\n",
      "DJELFA_TLETSI\n",
      "SAIDA\n",
      "EL_KHEITER\n",
      "MECHERIA\n",
      "EL_BAYADH\n",
      "SIDI_MAHDI\n",
      "NAAMA\n",
      "GUEMAR\n",
      "AIN_SEFRA\n",
      "NOUMERAT\n",
      "BECHAR\n",
      "OUARGLA\n",
      "OUED_IRARA\n",
      "BENI_ABBES\n",
      "TIMIMOUN\n",
      "TOUAT_CHEIKH_SIDI_MOHAMED_BEL\n",
      "IN_SALAH\n",
      "ILLIZI_TAKHAMALT\n",
      "TINDOUF\n",
      "TISKA\n",
      "BORDJ_BADJ_MOKHTAR\n",
      "ADRAR\n",
      "TOUGGOURT\n",
      "HASSI_MESSOUD\n",
      "EL_OUED\n",
      "BENI_SAF_ALGERIA\n",
      "GHARDAIA\n",
      "DJANET\n",
      "AOULEF_ALGERIA\n",
      "ILLIZI\n",
      "BEJAIA\n",
      "ZAKATALA\n",
      "GANCA\n",
      "FIZULY\n",
      "LANKARAN\n",
      "ASTARA\n",
      "TIRANA\n",
      "SHKODRA\n",
      "TIRANA_RINAS\n",
      "VLORE\n",
      "KORCA\n",
      "GUMRI\n",
      "ARAGAC_VISOKOGORNAYA\n",
      "YEREVAN\n",
      "GAVAR\n",
      "LUBANGO_SA_DA_BAND\n",
      "DUNDO\n",
      "MALANJE\n",
      "LUENA_LUSO\n",
      "HUAMBONOVA_LISBOA\n",
      "HENRIQUE_DE_CARVALHO\n",
      "LOBITO\n",
      "CABINDA\n",
      "TAFUNA_AP_TUTUILA\n",
      "PAGO_PAGO_WSO_AP\n",
      "MONTE_CASEROS_AERO\n",
      "LA_QUIACA_OBSERVATO\n",
      "RIVADAVIA\n",
      "LAS_LOMITAS\n",
      "SANTIAGO_DEL_ESTERO\n",
      "RESISTENCIA_AERO\n",
      "LA_RIOJA_AERO\n",
      "CERES_AERO\n",
      "RECONQUISTA_AERO\n",
      "CORDOBA_AERO\n",
      "PARANA_AERO\n",
      "MENDOZA_AERO\n",
      "LABOULAYE_AERO\n",
      "SANTA_ROSA_AERO\n",
      "MAR_DEL_PLATA_AERO\n",
      "NEUQUEN_AERO\n",
      "ESQUEL_AERO\n",
      "TRELEW_AERO\n",
      "COMODORO_RIVADAVIA\n",
      "RIO_GALLEGOS_AERO\n",
      "SALTA_AERO\n",
      "JACHAL\n",
      "PEHUAJO_AERO\n",
      "BUENOS_AIRES_OBSERV\n",
      "BAHIA_BLANCA_AERO\n",
      "ORAN\n",
      "GENERAL_ENRIQUE_MOSCONI_TARTA\n",
      "JUJUY\n",
      "TENIENTE_BENJAMIN_MATIENZO\n",
      "PRESIDENCIA_ROQUE_SAENZ_PENA\n",
      "FORMOSA\n",
      "CORRIENTES\n",
      "POSADAS\n",
      "CATAMARCA\n",
      "VILLA_MARIA_DEL_RIO\n",
      "PASO_DE_LOS_LIBRES\n",
      "SAN_JUAN\n",
      "CHAMICAL_AERO\n",
      "CHEPES\n",
      "VILLA_DOLORES\n",
      "CORDOBA_OBSERVATORIO\n",
      "PILAR_OBSERVATORIO\n",
      "COMODORO_PIERRESTEGUI\n",
      "SAN_MARTIN\n"
     ]
    }
   ],
   "source": [
    "S=Storage()\n",
    "for station in station_names[:200]:\n",
    "    #brightness=float(info[info['Station']==station]['Brightness'])\n",
    "    brightness=array(info[info['Station']==station]['Brightness'])[0]\n",
    "    x,y=get_xy(data,station)\n",
    "    \n",
    "    if len(x)==0:\n",
    "        continue \n",
    "        \n",
    "    model=ols('y ~ x', data={'y':y,'x':x})\n",
    "    results=model.fit()\n",
    "    m=results.params['x']\n",
    "    mσ=results.bse['x']\n",
    "    \n",
    "    S+=brightness,m,mσ\n",
    "    print(station)\n",
    "    \n",
    "brightness,m,mσ = array(S)"
   ]
  },
  {
   "cell_type": "code",
   "execution_count": 48,
   "metadata": {},
   "outputs": [
    {
     "data": {
      "text/plain": [
       "array([ 45.,  39.,  17., 104., 114.,  39.,  27.,   0.,   0.,   0.,   0.,\n",
       "        25.,  12.,  15.,   0.,   9.,  61.,  41.,   8.,  25.,  36.,  30.,\n",
       "        27.,  31.,  38.,  19.,  18.,  11.,  17.,  14.,   8.,  13.,  26.,\n",
       "        12.,   0.,   0.,  22.,  26.,  10.,  11.,  21.,  29.,   9., 188.,\n",
       "        10.,  57.,   9.,  25.,  11.,  14.,   0.,   0.,   0.,   0.,   0.,\n",
       "        10.,   0.,   7.,  32.,  20.,   0.,  16.,  16.,   6.,  17.,  11.,\n",
       "        26.,   8.,   9.,  14.,  34.,  10.,   0.,   0.,  14.,   0.,   0.,\n",
       "         0.,   8.,  30.,  18.,   0.,   0.,   0.,   8.,  13.,   0.,   0.,\n",
       "         0.,   0.,   8.,   0.,   9.,   0.,  20.,  11.,   8.,  16.,   0.,\n",
       "        13.,   0.,  32.,  11.,   0.,   0.,   0.,   0.,   0.,   0.,  11.,\n",
       "        13.,   0.,   0.,   0.,  15.,   0.,  12.,  23.,  37.,  21.,  19.,\n",
       "         0.,  30.,  30.,  29.,  27.,   0.,  16.,  23.,   0.,   0.,  22.,\n",
       "         0.,  10.,  13.,   0.,  92.,   0.,  19.,   0.,   0.,  18.,   0.,\n",
       "        15.,  23.,  15.,   0.,   0.,   0.,   0.,  17.,  12.,  15.,  94.,\n",
       "        16.,   0.,   0.])"
      ]
     },
     "execution_count": 48,
     "metadata": {},
     "output_type": "execute_result"
    }
   ],
   "source": [
    "brightness"
   ]
  },
  {
   "cell_type": "code",
   "execution_count": 49,
   "metadata": {},
   "outputs": [
    {
     "data": {
      "text/plain": [
       "(array([ 0.02495209, -0.00172297,  0.01861586,  0.01213248,  0.03736059,\n",
       "        -0.00916231, -0.05297426, -0.05879145,  0.00397682,  0.02309041,\n",
       "        -0.01600813,  0.01094333,  0.0381596 ,  0.0236307 ,  0.02490372,\n",
       "         0.08878516,  0.01020392,  0.06584557,  0.01815946,  0.02320351,\n",
       "         0.04227132,  0.01334745,  0.02741944,  0.02526371,  0.01465224,\n",
       "         0.02570582,  0.00628728, -0.00748439, -0.07227125,  0.02409313,\n",
       "        -0.05773738,  0.03583655, -0.03926696,  0.02211531, -0.03687355,\n",
       "         0.00545233, -0.03895238, -0.01918282,  0.02594372,  0.02315015,\n",
       "         0.0072426 , -0.0516757 ,  0.05248988, -0.00861013,  0.02912248,\n",
       "        -0.02840181, -0.08141835,  0.01773872,  0.0265235 ,  0.00663492,\n",
       "        -0.0233998 , -0.00063203, -0.01741799, -0.06276933, -0.0258893 ,\n",
       "         0.01508527, -0.01485107, -0.01134335,  0.01403227, -0.01856364,\n",
       "         0.01884379, -0.03931175,  0.03411238, -0.03103525,  0.01701887,\n",
       "         0.07122669, -0.00765956,  0.02605532,  0.01857596,  0.00407618,\n",
       "         0.04752687,  0.03032653,  0.06052033,  0.10438537,  0.04406317,\n",
       "        -0.05680802,  0.03149992, -0.00672349, -0.17845872,  0.06355645,\n",
       "         0.05574104,  0.12157143,  0.06696217,  0.03699421,  0.06273976,\n",
       "         0.01513052,  0.03116208,  0.08574106,  0.04461169,  0.0249745 ,\n",
       "         0.01318433, -0.15273714,  0.00048727,  0.05290664, -0.00707827,\n",
       "         0.02175825,  0.02466846, -0.00083566, -0.05384813,  0.01450988,\n",
       "         0.02380924,  0.02072432,  0.00095269,  0.07024671,  0.00894809,\n",
       "         0.00490258, -0.00936807, -0.00745333,  0.00628807, -0.00956569,\n",
       "        -0.00805848,  0.02621598,  0.01426125,  0.01463221,  0.01985701,\n",
       "         0.03059145,  0.02671699,  0.02087866,  0.013951  ,  0.02014199,\n",
       "         0.01741889,  0.01714993,  0.02474657,  0.01387484,  0.0118293 ,\n",
       "         0.01773056,  0.01357977,  0.02711566,  0.02600449,  0.01429309,\n",
       "         0.01293686,  0.01280792,  0.017931  ,  0.00950709,  0.01021363,\n",
       "         0.03017038,  0.0113025 ,  0.01303896,  0.01460419,  0.02757128,\n",
       "         0.01725854,  0.01116784,  0.03463918,  0.0358154 ,  0.00751745,\n",
       "         0.01206523,  0.02132441,  0.02034482,  0.01197791,  0.05381281,\n",
       "         0.02413057, -0.00811555,  0.00996592,  0.01768237,  0.01554906,\n",
       "         0.01819766, -0.01029426]),\n",
       " array([0.00461028, 0.00646413, 0.02984796, 0.01902581, 0.03908573,\n",
       "        0.02641669, 0.04793662, 0.05407487, 0.0297618 , 0.0298672 ,\n",
       "        0.0280194 , 0.00216531, 0.01120361, 0.02724807, 0.00652503,\n",
       "        0.02956507, 0.00510611, 0.03633404, 0.00836251, 0.01434031,\n",
       "        0.01792174, 0.0133909 , 0.08449207, 0.01054214, 0.00556541,\n",
       "        0.04460423, 0.00780132, 0.01947924, 0.02957188, 0.00701719,\n",
       "        0.04578255, 0.01282874, 0.02646192, 0.0227279 , 0.04687449,\n",
       "        0.01382387, 0.02831343, 0.03098353, 0.02066797, 0.01221599,\n",
       "        0.03863791, 0.03106193, 0.02727599, 0.01868231, 0.03053115,\n",
       "        0.02754992, 0.04026752, 0.01266065, 0.06614239, 0.00186218,\n",
       "        0.04778289, 0.03539182, 0.02674246, 0.03343116, 0.03028209,\n",
       "        0.01592625, 0.02113114, 0.01573112, 0.01639646, 0.0162686 ,\n",
       "        0.02564726, 0.03146134, 0.02035205, 0.02724326, 0.05515267,\n",
       "        0.02493704, 0.0196029 , 0.0159798 , 0.00870326, 0.03575409,\n",
       "        0.02886654, 0.02638357, 0.02344694, 0.03461999, 0.03951472,\n",
       "        0.04300006, 0.01676267, 0.02630893, 0.06452662, 0.03127733,\n",
       "        0.02229953, 0.04067305, 0.02996672, 0.02419748, 0.00968833,\n",
       "        0.04813049, 0.01723171, 0.07251792, 0.02736166, 0.02027527,\n",
       "        0.0061151 , 0.06909172, 0.00286125, 0.00892615, 0.00687152,\n",
       "        0.00653964, 0.00933781, 0.00573771, 0.01982137, 0.00646153,\n",
       "        0.00769009, 0.00486604, 0.01055228, 0.00675976, 0.00444331,\n",
       "        0.00524375, 0.00518543, 0.00611284, 0.00746034, 0.01068723,\n",
       "        0.0063692 , 0.0031103 , 0.00241973, 0.00758217, 0.00180161,\n",
       "        0.00642068, 0.00512938, 0.00403358, 0.0048372 , 0.00486985,\n",
       "        0.00415375, 0.00622746, 0.00802046, 0.00323436, 0.00868163,\n",
       "        0.00949989, 0.00648877, 0.00781005, 0.00854514, 0.00528064,\n",
       "        0.00278602, 0.00346622, 0.00478185, 0.002042  , 0.014567  ,\n",
       "        0.0105197 , 0.00152069, 0.00194225, 0.00891873, 0.01305416,\n",
       "        0.00399772, 0.0170352 , 0.01729184, 0.00582321, 0.00426828,\n",
       "        0.00472012, 0.00845682, 0.00841688, 0.00403916, 0.01409634,\n",
       "        0.01141162, 0.00825293, 0.01173477, 0.00357515, 0.00402017,\n",
       "        0.0118617 , 0.04254365]))"
      ]
     },
     "execution_count": 49,
     "metadata": {},
     "output_type": "execute_result"
    }
   ],
   "source": [
    "m,mσ"
   ]
  },
  {
   "cell_type": "code",
   "execution_count": 50,
   "metadata": {},
   "outputs": [],
   "source": [
    "x=brightness\n",
    "y=m\n",
    "yerr=mσ"
   ]
  },
  {
   "cell_type": "code",
   "execution_count": 51,
   "metadata": {},
   "outputs": [
    {
     "data": {
      "text/plain": [
       "[<matplotlib.lines.Line2D at 0x7f8c788c1190>]"
      ]
     },
     "execution_count": 51,
     "metadata": {},
     "output_type": "execute_result"
    },
    {
     "data": {
      "image/png": "[encoded data removed]",
      "text/plain": [
       "<Figure size 864x576 with 1 Axes>"
      ]
     },
     "metadata": {
      "needs_background": "light"
     },
     "output_type": "display_data"
    }
   ],
   "source": [
    "plot(x,y,'o')"
   ]
  },
  {
   "cell_type": "code",
   "execution_count": 52,
   "metadata": {},
   "outputs": [
    {
     "data": {
      "image/png": "[encoded data removed]",
      "text/plain": [
       "<Figure size 864x576 with 1 Axes>"
      ]
     },
     "metadata": {
      "needs_background": "light"
     },
     "output_type": "display_data"
    }
   ],
   "source": [
    "errorbar(x,y,yerr,fmt='o');"
   ]
  },
  {
   "cell_type": "code",
   "execution_count": null,
   "metadata": {},
   "outputs": [],
   "source": []
  }
 ],
 "metadata": {
  "kernelspec": {
   "display_name": "Python 3",
   "language": "python",
   "name": "python3"
  },
  "language_info": {
   "codemirror_mode": {
    "name": "ipython",
    "version": 3
   },
   "file_extension": ".py",
   "mimetype": "text/x-python",
   "name": "python",
   "nbconvert_exporter": "python",
   "pygments_lexer": "ipython3",
   "version": "3.7.6"
  }
 },
 "nbformat": 4,
 "nbformat_minor": 4
}
